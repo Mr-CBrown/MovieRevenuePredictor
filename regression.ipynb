{
 "cells": [
  {
   "cell_type": "code",
   "execution_count": 1,
   "id": "01e10c25",
   "metadata": {},
   "outputs": [],
   "source": [
    "import pandas as pd\n",
    "import sklearn.linear_model as sk\n",
    "import matplotlib.pyplot as plt"
   ]
  },
  {
   "cell_type": "code",
   "execution_count": null,
   "id": "f58a808f",
   "metadata": {},
   "outputs": [],
   "source": [
    "df = pd.read_csv('movies_metadata.csv')"
   ]
  },
  {
   "cell_type": "code",
   "execution_count": 7,
   "id": "852cec29",
   "metadata": {},
   "outputs": [
    {
     "data": {
      "text/plain": [
       "Index(['adult', 'belongs_to_collection', 'budget', 'genres', 'homepage', 'id',\n",
       "       'imdb_id', 'original_language', 'original_title', 'overview',\n",
       "       'popularity', 'poster_path', 'production_companies',\n",
       "       'production_countries', 'release_date', 'revenue', 'runtime',\n",
       "       'spoken_languages', 'status', 'tagline', 'title', 'video',\n",
       "       'vote_average', 'vote_count'],\n",
       "      dtype='object')"
      ]
     },
     "execution_count": 7,
     "metadata": {},
     "output_type": "execute_result"
    }
   ],
   "source": [
    "df.head(2) # view the first two rows of data\n",
    "df.columns # view the column names "
   ]
  },
  {
   "cell_type": "code",
   "execution_count": 9,
   "id": "35331a52",
   "metadata": {},
   "outputs": [],
   "source": [
    "df.drop(['adult', 'belongs_to_collection', 'genres', 'homepage', 'id',\n",
    "       'imdb_id', 'original_language', 'original_title', 'overview',\n",
    "       'popularity', 'poster_path', 'production_companies',\n",
    "       'production_countries', 'release_date', 'runtime',\n",
    "       'spoken_languages', 'tagline', 'title', 'video',\n",
    "       'vote_average', 'vote_count'],axis=1,inplace=True) # remove excess columns "
   ]
  },
  {
   "cell_type": "code",
   "execution_count": 10,
   "id": "11fcfc4c",
   "metadata": {},
   "outputs": [
    {
     "data": {
      "text/html": [
       "<div>\n",
       "<style scoped>\n",
       "    .dataframe tbody tr th:only-of-type {\n",
       "        vertical-align: middle;\n",
       "    }\n",
       "\n",
       "    .dataframe tbody tr th {\n",
       "        vertical-align: top;\n",
       "    }\n",
       "\n",
       "    .dataframe thead th {\n",
       "        text-align: right;\n",
       "    }\n",
       "</style>\n",
       "<table border=\"1\" class=\"dataframe\">\n",
       "  <thead>\n",
       "    <tr style=\"text-align: right;\">\n",
       "      <th></th>\n",
       "      <th>budget</th>\n",
       "      <th>revenue</th>\n",
       "      <th>status</th>\n",
       "    </tr>\n",
       "  </thead>\n",
       "  <tbody>\n",
       "    <tr>\n",
       "      <th>0</th>\n",
       "      <td>30000000</td>\n",
       "      <td>373554033.0</td>\n",
       "      <td>Released</td>\n",
       "    </tr>\n",
       "    <tr>\n",
       "      <th>1</th>\n",
       "      <td>65000000</td>\n",
       "      <td>262797249.0</td>\n",
       "      <td>Released</td>\n",
       "    </tr>\n",
       "  </tbody>\n",
       "</table>\n",
       "</div>"
      ],
      "text/plain": [
       "     budget      revenue    status\n",
       "0  30000000  373554033.0  Released\n",
       "1  65000000  262797249.0  Released"
      ]
     },
     "execution_count": 10,
     "metadata": {},
     "output_type": "execute_result"
    }
   ],
   "source": [
    "df.head(2) # view newly created limited data set"
   ]
  },
  {
   "cell_type": "code",
   "execution_count": 11,
   "id": "85b45843",
   "metadata": {},
   "outputs": [
    {
     "data": {
      "text/plain": [
       "array(['Released', nan, 'Rumored', 'Post Production', 'In Production',\n",
       "       'Planned', 'Canceled'], dtype=object)"
      ]
     },
     "execution_count": 11,
     "metadata": {},
     "output_type": "execute_result"
    }
   ],
   "source": [
    "df['status'].unique() #verify the types of statusd a movie could have "
   ]
  },
  {
   "cell_type": "code",
   "execution_count": 14,
   "id": "400dbe3b",
   "metadata": {},
   "outputs": [],
   "source": [
    "filter_status = ['Rumored', 'Post Production', 'In Production','Planned', 'Canceled'] # Create a list of status that we want to exclude from analysis\n",
    "df.drop(df[df['status'].isin(filter_status)].index,inplace=True) # remove the list of excess statuses"
   ]
  },
  {
   "cell_type": "code",
   "execution_count": 15,
   "id": "02f2f9f0",
   "metadata": {},
   "outputs": [
    {
     "data": {
      "text/plain": [
       "array(['Released', nan], dtype=object)"
      ]
     },
     "execution_count": 15,
     "metadata": {},
     "output_type": "execute_result"
    }
   ],
   "source": [
    "df['status'].unique() #verify that the filter removed the undesired status types"
   ]
  },
  {
   "cell_type": "code",
   "execution_count": 17,
   "id": "f2e0ab51",
   "metadata": {},
   "outputs": [
    {
     "data": {
      "text/html": [
       "<div>\n",
       "<style scoped>\n",
       "    .dataframe tbody tr th:only-of-type {\n",
       "        vertical-align: middle;\n",
       "    }\n",
       "\n",
       "    .dataframe tbody tr th {\n",
       "        vertical-align: top;\n",
       "    }\n",
       "\n",
       "    .dataframe thead th {\n",
       "        text-align: right;\n",
       "    }\n",
       "</style>\n",
       "<table border=\"1\" class=\"dataframe\">\n",
       "  <thead>\n",
       "    <tr style=\"text-align: right;\">\n",
       "      <th></th>\n",
       "      <th>budget</th>\n",
       "      <th>revenue</th>\n",
       "    </tr>\n",
       "  </thead>\n",
       "  <tbody>\n",
       "    <tr>\n",
       "      <th>0</th>\n",
       "      <td>30000000</td>\n",
       "      <td>373554033.0</td>\n",
       "    </tr>\n",
       "    <tr>\n",
       "      <th>1</th>\n",
       "      <td>65000000</td>\n",
       "      <td>262797249.0</td>\n",
       "    </tr>\n",
       "  </tbody>\n",
       "</table>\n",
       "</div>"
      ],
      "text/plain": [
       "     budget      revenue\n",
       "0  30000000  373554033.0\n",
       "1  65000000  262797249.0"
      ]
     },
     "execution_count": 17,
     "metadata": {},
     "output_type": "execute_result"
    }
   ],
   "source": [
    "df.drop('status',axis=1,inplace=True)\n",
    "df.head(2) # remove status column to further simplify data set"
   ]
  },
  {
   "cell_type": "code",
   "execution_count": 19,
   "id": "ad4cb380",
   "metadata": {},
   "outputs": [
    {
     "data": {
      "text/plain": [
       "dtype('O')"
      ]
     },
     "execution_count": 19,
     "metadata": {},
     "output_type": "execute_result"
    }
   ],
   "source": [
    "df['budget'].dtype # check data type of new columns\n"
   ]
  },
  {
   "cell_type": "code",
   "execution_count": 20,
   "id": "1c6957c8",
   "metadata": {},
   "outputs": [
    {
     "data": {
      "text/plain": [
       "dtype('float64')"
      ]
     },
     "execution_count": 20,
     "metadata": {},
     "output_type": "execute_result"
    }
   ],
   "source": [
    "df['revenue'].dtype"
   ]
  },
  {
   "cell_type": "code",
   "execution_count": 21,
   "id": "583b194b",
   "metadata": {},
   "outputs": [
    {
     "data": {
      "text/plain": [
       "string[python]"
      ]
     },
     "execution_count": 21,
     "metadata": {},
     "output_type": "execute_result"
    }
   ],
   "source": [
    "df['budget']=df['budget'].convert_dtypes()\n",
    "df['budget'].dtype # convert data types to string.. part of a work aorund to convert dtype to float. NAN values may cause error if converting directly to float"
   ]
  },
  {
   "cell_type": "code",
   "execution_count": 22,
   "id": "998a1aa9",
   "metadata": {},
   "outputs": [
    {
     "data": {
      "text/plain": [
       "dtype('float64')"
      ]
     },
     "execution_count": 22,
     "metadata": {},
     "output_type": "execute_result"
    }
   ],
   "source": [
    "df.budget = pd.to_numeric(df['budget'],errors='coerce')\n",
    "df.budget.dtype #string to float conversion"
   ]
  },
  {
   "cell_type": "code",
   "execution_count": 25,
   "id": "b977b841",
   "metadata": {},
   "outputs": [
    {
     "data": {
      "text/plain": [
       "(36782, 2)"
      ]
     },
     "execution_count": 25,
     "metadata": {},
     "output_type": "execute_result"
    }
   ],
   "source": [
    "df[df['budget']<100000].shape # find count of movies with a budget less than 100k"
   ]
  },
  {
   "cell_type": "code",
   "execution_count": 26,
   "id": "6637b0ea",
   "metadata": {},
   "outputs": [
    {
     "data": {
      "text/plain": [
       "(8282, 2)"
      ]
     },
     "execution_count": 26,
     "metadata": {},
     "output_type": "execute_result"
    }
   ],
   "source": [
    "df.drop(df[df['budget']<=100000].index,inplace=True)\n",
    "df.shape # drop movies with less than 100k budget"
   ]
  },
  {
   "cell_type": "code",
   "execution_count": 27,
   "id": "3a5f1155",
   "metadata": {},
   "outputs": [
    {
     "data": {
      "text/plain": [
       "(3058, 2)"
      ]
     },
     "execution_count": 27,
     "metadata": {},
     "output_type": "execute_result"
    }
   ],
   "source": [
    "df[df['revenue']<=10000].shape # find movies with less than 10k revenue "
   ]
  },
  {
   "cell_type": "code",
   "execution_count": 28,
   "id": "e5246a68",
   "metadata": {},
   "outputs": [
    {
     "data": {
      "text/plain": [
       "(5224, 2)"
      ]
     },
     "execution_count": 28,
     "metadata": {},
     "output_type": "execute_result"
    }
   ],
   "source": [
    "df.drop(df[df['revenue']<=10000].index,inplace=True)\n",
    "df.shape #drop movies with less than 10k revenue"
   ]
  },
  {
   "cell_type": "code",
   "execution_count": 29,
   "id": "9137bb82",
   "metadata": {},
   "outputs": [
    {
     "data": {
      "text/plain": [
       "True"
      ]
     },
     "execution_count": 29,
     "metadata": {},
     "output_type": "execute_result"
    }
   ],
   "source": [
    "df.isnull().values.any() # check for null values in either column"
   ]
  },
  {
   "cell_type": "code",
   "execution_count": 30,
   "id": "7b168546",
   "metadata": {},
   "outputs": [],
   "source": [
    "df.dropna(how=\"all\",inplace=True) #drop rows with any null values "
   ]
  },
  {
   "cell_type": "code",
   "execution_count": 31,
   "id": "4dc514aa",
   "metadata": {},
   "outputs": [
    {
     "data": {
      "text/plain": [
       "(5221, 2)"
      ]
     },
     "execution_count": 31,
     "metadata": {},
     "output_type": "execute_result"
    }
   ],
   "source": [
    "df.shape"
   ]
  },
  {
   "cell_type": "code",
   "execution_count": 33,
   "id": "ab21554c",
   "metadata": {},
   "outputs": [
    {
     "data": {
      "image/png": "[encoded data removed]",
      "text/plain": [
       "<Figure size 432x288 with 1 Axes>"
      ]
     },
     "metadata": {
      "needs_background": "light"
     },
     "output_type": "display_data"
    }
   ],
   "source": [
    "plt.scatter(df['budget'],df['revenue'],marker=\"+\",color=\"green\") #create chart with x and y mapped to our columns\n",
    "plt.xlabel(\"Budget\") #label the x-axis\n",
    "plt.ylabel(\"Revenue\") #label the y axis \n",
    "plt.show() "
   ]
  },
  {
   "cell_type": "code",
   "execution_count": 35,
   "id": "c4829bd4",
   "metadata": {},
   "outputs": [
    {
     "data": {
      "text/plain": [
       "LinearRegression()"
      ]
     },
     "execution_count": 35,
     "metadata": {},
     "output_type": "execute_result"
    }
   ],
   "source": [
    "reg = sk.LinearRegression() # create a variable for the linear regression function\n",
    "reg.fit(df[['budget']],df['revenue']) # perform regression on the two variables"
   ]
  },
  {
   "cell_type": "code",
   "execution_count": 36,
   "id": "8d4d239d",
   "metadata": {},
   "outputs": [
    {
     "data": {
      "text/plain": [
       "array([3.0245148])"
      ]
     },
     "execution_count": 36,
     "metadata": {},
     "output_type": "execute_result"
    }
   ],
   "source": [
    "reg.coef_ #find the coefficent"
   ]
  },
  {
   "cell_type": "code",
   "execution_count": 37,
   "id": "802d1129",
   "metadata": {},
   "outputs": [
    {
     "data": {
      "text/plain": [
       "-3866410.6975899637"
      ]
     },
     "execution_count": 37,
     "metadata": {},
     "output_type": "execute_result"
    }
   ],
   "source": [
    "reg.intercept_ # find the intercept\n",
    "# Regression line Y= 3.0245148x - 3866410.6975899637"
   ]
  },
  {
   "cell_type": "code",
   "execution_count": 38,
   "id": "3d472f36",
   "metadata": {},
   "outputs": [
    {
     "data": {
      "image/png": "[encoded data removed]",
      "text/plain": [
       "<Figure size 432x288 with 1 Axes>"
      ]
     },
     "metadata": {
      "needs_background": "light"
     },
     "output_type": "display_data"
    }
   ],
   "source": [
    "plt.scatter(df['budget'],df['revenue'],marker=\"+\",color=\"green\") \n",
    "plt.plot(df[['budget']],reg.predict(df[['budget']]),color=\"black\",linewidth=3) #new regression line plotted\n",
    "plt.xlabel(\"Budget\") \n",
    "plt.ylabel(\"Revenue\") \n",
    "plt.show() "
   ]
  },
  {
   "cell_type": "code",
   "execution_count": 43,
   "id": "f11a0e99",
   "metadata": {},
   "outputs": [
    {
     "data": {
      "text/plain": [
       "array([11256163.29963944])"
      ]
     },
     "execution_count": 43,
     "metadata": {},
     "output_type": "execute_result"
    }
   ],
   "source": [
    "reg.predict([[5000000]]) #predict the revenue based upon selected budget"
   ]
  },
  {
   "cell_type": "code",
   "execution_count": 44,
   "id": "501d0f78",
   "metadata": {},
   "outputs": [
    {
     "data": {
      "text/plain": [
       "0.5301877787402028"
      ]
     },
     "execution_count": 44,
     "metadata": {},
     "output_type": "execute_result"
    }
   ],
   "source": [
    "reg.score(df[['budget']],df['revenue']) # check the R value. Pretty good considering it is using only one varaible! "
   ]
  }
 ],
 "metadata": {
  "kernelspec": {
   "display_name": "Python 3 (ipykernel)",
   "language": "python",
   "name": "python3"
  },
  "language_info": {
   "codemirror_mode": {
    "name": "ipython",
    "version": 3
   },
   "file_extension": ".py",
   "mimetype": "text/x-python",
   "name": "python",
   "nbconvert_exporter": "python",
   "pygments_lexer": "ipython3",
   "version": "3.9.7"
  }
 },
 "nbformat": 4,
 "nbformat_minor": 5
}
